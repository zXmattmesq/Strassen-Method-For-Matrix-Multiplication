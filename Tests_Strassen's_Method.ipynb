{
  "cells": [
    {
      "cell_type": "markdown",
      "metadata": {
        "id": "85KRkcVGQ5pu"
      },
      "source": [
        "Tests For Each Method, And Example Usage."
      ]
    },
    {
      "cell_type": "code",
      "execution_count": null,
      "metadata": {
        "id": "j1ZsBKkgasGN"
      },
      "outputs": [],
      "source": [
        "matrix = MatrixOperations"
      ]
    },
    {
      "cell_type": "code",
      "execution_count": null,
      "metadata": {
        "colab": {
          "base_uri": "https://localhost:8080/"
        },
        "id": "gDR6RKuBONVd",
        "outputId": "04123762-d2bf-4751-db5b-dfe28da80030"
      },
      "outputs": [
        {
          "name": "stdout",
          "output_type": "stream",
          "text": [
            "Rows, Cols (2, 3, 3, 2)\n"
          ]
        }
      ],
      "source": [
        "A = [[1, 2, 3],\n",
        "     [4, 5, 6]]\n",
        "B = [[7, 8],\n",
        "     [9, 10],\n",
        "     [11, 12]]\n",
        "\n",
        "rowsA, colsA, rowsB, colsB = matrix.get_row_col(A, B)\n",
        "print(\"Rows, Cols\", (rowsA, colsA, rowsB, colsB))\n"
      ]
    },
    {
      "cell_type": "code",
      "execution_count": null,
      "metadata": {
        "colab": {
          "base_uri": "https://localhost:8080/"
        },
        "id": "RbJ-USKZOjJo",
        "outputId": "f31b2efb-b8b9-49bf-8988-f57526b33cf8"
      },
      "outputs": [
        {
          "name": "stdout",
          "output_type": "stream",
          "text": [
            "[[0, 0, 0], [0, 0, 0]]\n"
          ]
        }
      ],
      "source": [
        "rows, cols = 2, 3\n",
        "empty_mat = matrix.get_empty_matrix(rows, cols)\n",
        "\n",
        "print(empty_mat)"
      ]
    },
    {
      "cell_type": "code",
      "execution_count": null,
      "metadata": {
        "colab": {
          "base_uri": "https://localhost:8080/"
        },
        "id": "hoM7ryu_O5JX",
        "outputId": "d299e268-1b84-41c8-cff7-cf1b7357df21"
      },
      "outputs": [
        {
          "name": "stdout",
          "output_type": "stream",
          "text": [
            "[[1, 2], [5, 6]]\n",
            "[[3, 4], [7, 8]]\n",
            "[[9, 10], [13, 14]]\n",
            "[[11, 12], [15, 16]]\n"
          ]
        }
      ],
      "source": [
        "matrix_4x4 = [\n",
        "    [1,  2,  3,  4],\n",
        "    [5,  6,  7,  8],\n",
        "    [9,  10, 11, 12],\n",
        "    [13, 14, 15, 16]\n",
        "]\n",
        "quarters = list(matrix.quadrant_matrix(matrix_4x4))\n",
        "\n",
        "for i in quarters:\n",
        "  print(i)"
      ]
    },
    {
      "cell_type": "code",
      "execution_count": null,
      "metadata": {
        "colab": {
          "base_uri": "https://localhost:8080/"
        },
        "id": "v4UkCBoXPPBK",
        "outputId": "de7475ad-f723-4561-d02c-fd1f88f7afcf"
      },
      "outputs": [
        {
          "name": "stdout",
          "output_type": "stream",
          "text": [
            "[[6, 8], [10, 12]]\n"
          ]
        }
      ],
      "source": [
        "A = [[1, 2],\n",
        "     [3, 4]]\n",
        "B = [[5, 6],\n",
        "     [7, 8]]\n",
        "\n",
        "added = matrix.matrix_add(A, B)\n",
        "\n",
        "print(added)"
      ]
    },
    {
      "cell_type": "code",
      "execution_count": null,
      "metadata": {
        "colab": {
          "base_uri": "https://localhost:8080/"
        },
        "id": "yHm6Xt1lP5iY",
        "outputId": "b28cf379-a42c-4d37-85bc-7453bda5c8de"
      },
      "outputs": [
        {
          "name": "stdout",
          "output_type": "stream",
          "text": [
            "[[4, 4], [4, 4]]\n"
          ]
        }
      ],
      "source": [
        "A = [[5, 6],\n",
        "     [7, 8]]\n",
        "\n",
        "B = [[1, 2],\n",
        "     [3, 4]]\n",
        "\n",
        "\n",
        "subbed = matrix.matrix_sub(A, B)\n",
        "\n",
        "print(subbed)"
      ]
    },
    {
      "cell_type": "code",
      "execution_count": null,
      "metadata": {
        "colab": {
          "base_uri": "https://localhost:8080/"
        },
        "id": "QeHLNacKOrXm",
        "outputId": "6315f26b-43cf-4408-c1bc-f0e865309018"
      },
      "outputs": [
        {
          "name": "stdout",
          "output_type": "stream",
          "text": [
            "[[19, 22], [43, 50]]\n"
          ]
        }
      ],
      "source": [
        "A = [[1, 2],\n",
        "     [3, 4]]\n",
        "B = [[5, 6],\n",
        "     [7, 8]]\n",
        "\n",
        "result = matrix.left_down_multiply(A, B)\n",
        "print(result)"
      ]
    },
    {
      "cell_type": "code",
      "execution_count": null,
      "metadata": {
        "colab": {
          "base_uri": "https://localhost:8080/"
        },
        "id": "dvHmYOcYMr5m",
        "outputId": "c5508167-61bb-4752-9683-119af9e96da1"
      },
      "outputs": [
        {
          "name": "stdout",
          "output_type": "stream",
          "text": [
            "1x [[1, 2], [3, 4]]\n",
            "4x [[1, 2, 5, 6], [3, 4, 7, 8], [9, 10, 13, 14], [11, 12, 15, 16]]\n"
          ]
        }
      ],
      "source": [
        "B11 = [[1]]\n",
        "B12 = [[2]]\n",
        "T21 = [[3]]\n",
        "T22 = [[4]]\n",
        "\n",
        "result_matrix= matrix.matrix_combine(B11, B12, T21, T22)\n",
        "\n",
        "B11 = [[1, 2],\n",
        "       [3, 4]]\n",
        "B12 = [[5, 6],\n",
        "       [7, 8]]\n",
        "T21 = [[9, 10],\n",
        "       [11, 12]]\n",
        "T22 = [[13, 14],\n",
        "       [15, 16]]\n",
        "\n",
        "result_4x4 = matrix.matrix_combine(B11, B12, T21, T22)\n",
        "\n",
        "print(\"1x\", result_matrix)\n",
        "print(\"4x\", result_4x4)"
      ]
    },
    {
      "cell_type": "code",
      "execution_count": null,
      "metadata": {
        "colab": {
          "base_uri": "https://localhost:8080/"
        },
        "id": "UhO288ouFenh",
        "outputId": "6e56c68f-4a21-445c-fcfe-efb2d5bbb34b"
      },
      "outputs": [
        {
          "name": "stdout",
          "output_type": "stream",
          "text": [
            "[[19, 22], [43, 124]]\n",
            "\n",
            "[[90, 100, 110, 120], [202, 552, 254, 708], [314, 356, 706, 832], [426, 1256, 1074, 3156]]\n"
          ]
        }
      ],
      "source": [
        "A = [[1, 2],\n",
        "     [3, 4]]\n",
        "B = [[5, 6],\n",
        "     [7, 8]]\n",
        "\n",
        "C = matrix.strassen(A, B)\n",
        "\n",
        "A_4x4 = [\n",
        "    [1,  2,  3,  4],\n",
        "    [5,  6,  7,  8],\n",
        "    [9,  10, 11, 12],\n",
        "    [13, 14, 15, 16]\n",
        "]\n",
        "B_4x4 = [\n",
        "    [1,  2,  3,  4],\n",
        "    [5,  6,  7,  8],\n",
        "    [9,  10, 11, 12],\n",
        "    [13, 14, 15, 16]\n",
        "]\n",
        "\n",
        "C_4x4 = matrix.strassen(A_4x4, B_4x4)\n",
        "\n",
        "print(C, C_4x4, sep=\"\\n\\n\")\n"
      ]
    }
  ],
  "metadata": {
    "colab": {
      "provenance": []
    },
    "kernelspec": {
      "display_name": "Python 3",
      "name": "python3"
    },
    "language_info": {
      "name": "python"
    }
  },
  "nbformat": 4,
  "nbformat_minor": 0
}
